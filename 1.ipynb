{
 "cells": [
  {
   "cell_type": "code",
   "execution_count": 1,
   "metadata": {},
   "outputs": [
    {
     "name": "stdout",
     "output_type": "stream",
     "text": [
      "The input numbers are a =  10 and b =  20\n",
      "Addition :  30\n",
      "Product :  200\n",
      "Difference : 10\n",
      "Quotient :  0\n",
      "Remainder :  10\n",
      "Fractional Quotient :  0.5\n"
     ]
    }
   ],
   "source": [
    "#experiment 1\n",
    "#input two numbers and find out their sum,product,difference,quotient,remainder and fractional quotient\n",
    "a=int(input(\"Enter a ->\"))\n",
    "b=int(input(\"Enter b ->\"))\n",
    "print(\"The input numbers are a = \",a,\"and b = \",b)\n",
    "print(\"Addition : \",a+b)\n",
    "print(\"Product : \",a*b)\n",
    "print(\"Difference :\",abs(a-b))\n",
    "print(\"Quotient : \",a//b)\n",
    "print(\"Remainder : \",a%b)\n",
    "print(\"Fractional Quotient : \",a/b)"
   ]
  },
  {
   "cell_type": "code",
   "execution_count": 2,
   "metadata": {},
   "outputs": [
    {
     "name": "stdout",
     "output_type": "stream",
     "text": [
      "Perimeter :  12\n",
      "Area :  6.0\n",
      "The Angles are : A =  36.86989764584401  B =  53.13010235415599  C =  90.0\n"
     ]
    }
   ],
   "source": [
    "#experiment 2\n",
    "#find the area of the triangle given all the sides\n",
    "#find all the 3 angles of the triangle\n",
    "from math import degrees,acos,sqrt\n",
    "a=int(input(\"Enter a ->\"))\n",
    "b=int(input(\"Enter b ->\"))\n",
    "c=int(input(\"Enter c ->\"))\n",
    "s=(a+b+c)/2\n",
    "area=sqrt(s*(s-a)*(s-b)*(s-c))\n",
    "print(\"Perimeter : \",a+b+c)\n",
    "print(\"Area : \",area)\n",
    "angleA=degrees(acos((b*b+c*c-a*a)/(2*b*c)))\n",
    "angleB=degrees(acos((a*a+c*c-b*b)/(2*a*c)))\n",
    "angleC=degrees(acos((b*b+a*a-c*c)/(2*b*a)))\n",
    "print(\"The Angles are : A = \",angleA,\" B = \",angleB,\" C = \",angleC)"
   ]
  },
  {
   "cell_type": "code",
   "execution_count": 4,
   "metadata": {},
   "outputs": [
    {
     "name": "stdout",
     "output_type": "stream",
     "text": [
      "Temperature in Fahrenheit ->  212.0\n"
     ]
    }
   ],
   "source": [
    "#experiment 3\n",
    "#Convert celcius temperature to fahrenheit temperature\n",
    "c=int(input(\"Enter temperature in Celcius ->\"));\n",
    "f=c*1.8+32;\n",
    "print(\"Temperature in Fahrenheit -> \",f)"
   ]
  }
 ],
 "metadata": {
  "kernelspec": {
   "display_name": "Python 3",
   "language": "python",
   "name": "python3"
  },
  "language_info": {
   "codemirror_mode": {
    "name": "ipython",
    "version": 3
   },
   "file_extension": ".py",
   "mimetype": "text/x-python",
   "name": "python",
   "nbconvert_exporter": "python",
   "pygments_lexer": "ipython3",
   "version": "3.12.5"
  }
 },
 "nbformat": 4,
 "nbformat_minor": 2
}
