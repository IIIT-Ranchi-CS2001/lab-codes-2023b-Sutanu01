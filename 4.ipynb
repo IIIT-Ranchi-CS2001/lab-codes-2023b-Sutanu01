{
 "cells": [
  {
   "cell_type": "code",
   "execution_count": 7,
   "metadata": {},
   "outputs": [
    {
     "name": "stdout",
     "output_type": "stream",
     "text": [
      "['his', 'dad', 'gifted', 'him', 'a', 'racecar']\n",
      "3\n"
     ]
    }
   ],
   "source": [
    "sentence = input(\"Enter a sentence: \")\n",
    "words = sentence.lower().split()\n",
    "print(words)\n",
    "palindrome_count = 0\n",
    "for word in words:\n",
    "    if word == word[::-1]:\n",
    "        palindrome_count += 1\n",
    "print(palindrome_count)"
   ]
  },
  {
   "cell_type": "code",
   "execution_count": 3,
   "metadata": {},
   "outputs": [
    {
     "name": "stdout",
     "output_type": "stream",
     "text": [
      "Mean: 3.8\n",
      "Median: 4\n",
      "Mode: 4\n"
     ]
    }
   ],
   "source": [
    "from statistics import mean ,median ,mode\n",
    "numbers = [int(x) for x in input(\"Enter multiple integers separated by spaces: \").split()]\n",
    "\n",
    "mean_value = mean(numbers)\n",
    "median_value = median(numbers)\n",
    "mode_value = mode(numbers)\n",
    "\n",
    "print(f\"Mean: {mean_value}\")\n",
    "print(f\"Median: {median_value}\")\n",
    "print(f\"Mode: {mode_value}\")"
   ]
  },
  {
   "cell_type": "code",
   "execution_count": 1,
   "metadata": {},
   "outputs": [
    {
     "name": "stdout",
     "output_type": "stream",
     "text": [
      "['CS-2001:Python', 'CS-2003:COA', 'CS-2005:TOC', 'CS-2007:Algo']\n"
     ]
    }
   ],
   "source": [
    "course_code=['CS-2001','CS-2003','CS-2005','CS-2007']\n",
    "course_name=['Python','COA','TOC','Algo']\n",
    "mapping=list(zip(course_code,course_name))\n",
    "list1=[str(x[0]+\":\"+x[1]) for x in mapping]\n",
    "print(list1)"
   ]
  },
  {
   "cell_type": "code",
   "execution_count": 2,
   "metadata": {},
   "outputs": [
    {
     "name": "stdout",
     "output_type": "stream",
     "text": [
      "Artists of the class : {'Manas', 'Sutau', 'Ankur'}\n",
      "ALl rounders of the class : {'Manas'}\n",
      "Dancers but not singers : {'Sutau'}\n",
      "Singers but not dancers : {'Ankur'}\n",
      "Dancers but not singers cum singers but not dancers : {'Sutau', 'Ankur'}\n"
     ]
    }
   ],
   "source": [
    "s1 = set(input(\"Enter the names of singers of class: \").split())\n",
    "s2 = set(input(\"Enter the names of dancers of class: \").split())\n",
    "print(f\"Artists of the class : {s1 | s2}\")\n",
    "print(f\"ALl rounders of the class : {s1 & s2}\")\n",
    "print(f\"Singers but not dancers : {s1 - s2}\")\n",
    "print(f\"Dancers but not singers : {s2 - s1}\")\n",
    "print(f\"Dancers but not singers cum singers but not dancers : {s1^s2}\")"
   ]
  }
 ],
 "metadata": {
  "kernelspec": {
   "display_name": "Python 3",
   "language": "python",
   "name": "python3"
  },
  "language_info": {
   "codemirror_mode": {
    "name": "ipython",
    "version": 3
   },
   "file_extension": ".py",
   "mimetype": "text/x-python",
   "name": "python",
   "nbconvert_exporter": "python",
   "pygments_lexer": "ipython3",
   "version": "3.12.5"
  }
 },
 "nbformat": 4,
 "nbformat_minor": 2
}
