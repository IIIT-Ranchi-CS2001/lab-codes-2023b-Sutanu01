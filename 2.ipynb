{
 "cells": [
  {
   "cell_type": "code",
   "execution_count": 12,
   "metadata": {},
   "outputs": [
    {
     "name": "stdout",
     "output_type": "stream",
     "text": [
      "mAHA bHARAT\n",
      "Bharat\n",
      "BharatBharatBharat\n",
      "Mera Bharat\n",
      "Mera Bharat Mahan\n"
     ]
    }
   ],
   "source": [
    "s1=\"Maha Bharat\"\n",
    "print(s1.swapcase())\n",
    "print(s1[5 : ])\n",
    "print(s1[5: ]*3)\n",
    "s2=\"Mera \"+s1[5:]\n",
    "print(s2)\n",
    "s3=s2+\" Mahan\"\n",
    "print(s3)\n"
   ]
  },
  {
   "cell_type": "code",
   "execution_count": 14,
   "metadata": {},
   "outputs": [
    {
     "name": "stdout",
     "output_type": "stream",
     "text": [
      "17\n",
      "14\n",
      "3\n",
      "Ta Ta Black Sheep\n"
     ]
    }
   ],
   "source": [
    "s=\"Ba Ba Black Sheep\"\n",
    "print(len(s))\n",
    "print(s.find('e'))\n",
    "print(s.count('a'))\n",
    "print(s.replace('Ba','Ta'))"
   ]
  },
  {
   "cell_type": "code",
   "execution_count": 24,
   "metadata": {},
   "outputs": [
    {
     "name": "stdout",
     "output_type": "stream",
     "text": [
      "dad\n",
      "Yes PALINDROME\n"
     ]
    }
   ],
   "source": [
    "a1=input(\"Enter any string\")\n",
    "b1=a1[::-1]\n",
    "print(b1)\n",
    "if(a1==b1) :\n",
    "    print(\"Yes PALINDROME\")\n",
    "else :\n",
    "    print(\"NOT PALINDORME\")"
   ]
  },
  {
   "cell_type": "code",
   "execution_count": 20,
   "metadata": {},
   "outputs": [
    {
     "name": "stdout",
     "output_type": "stream",
     "text": [
      "Name : Sutanu\n",
      "Roll Number : 3010\n",
      "Marks in Mathematics : 96 / 100\n",
      "Grade Point : 10\n",
      "Remark : OUTSTANDING\n"
     ]
    }
   ],
   "source": [
    "Name=input(\"Enter your name ->\")\n",
    "RollNumber=int(input(\"Enter your ROll Number->\"))\n",
    "Marks=int(input(\"Enter marks scored in Mathematics out of 100->\"))\n",
    "print(f\"Name : {Name}\")\n",
    "print(f\"Roll Number : {RollNumber}\")\n",
    "print(f\"Marks in Mathematics : {Marks} / 100\")\n",
    "GradePoint=0\n",
    "Remarks=\"FAIL\"\n",
    "if(Marks>=90):\n",
    "    GradePoint=10\n",
    "    Remarks=\"OUTSTANDING\"\n",
    "elif(Marks<90 and Marks>=80):\n",
    "    GradePoint=9\n",
    "    Remarks=\"VERY GOOD\"\n",
    "elif(Marks<80 and Marks>=70):\n",
    "    GradePoint=8\n",
    "    Remarks=\"GOOD\"\n",
    "elif(Marks<70 and Marks>=60):\n",
    "    GradePoint=7\n",
    "    Remarks=\"AVERAGE\"\n",
    "elif(Marks<60 and Marks>=50):\n",
    "    GradePoint=8\n",
    "    Remarks=\"PASS\"\n",
    "\n",
    "print(f\"Grade Point : {GradePoint}\")\n",
    "print(f\"Remark : {Remarks}\")"
   ]
  },
  {
   "cell_type": "code",
   "execution_count": 27,
   "metadata": {},
   "outputs": [
    {
     "name": "stdout",
     "output_type": "stream",
     "text": [
      "The equation has one repeated root ->  1.0\n"
     ]
    }
   ],
   "source": [
    "from math import sqrt\n",
    "a=int(input(\"Enter a->\"))\n",
    "b=int(input(\"Enter b->\"))\n",
    "c=int(input(\"Enter c->\"))\n",
    "d=b*b-4*a*c\n",
    "if(d==0):\n",
    "    root=-(b/(2*a))\n",
    "    print(f\"The equation has one repeated root ->  {root}\")\n",
    "elif(d>0):\n",
    "    root1=(-b+sqrt(d))/(2*a)\n",
    "    root2=(-b-sqrt(d))/(2*a)\n",
    "    print(f\"The equation has 2 distinct real roots :\")\n",
    "    print(f\"Root1 -> {root1}    Root2->{root2}\")\n",
    "else:\n",
    "    real=-(b/(2*a))\n",
    "    img_part=sqrt(-d)/(2*a)\n",
    "    print(\"The equation has 2 complex roots\")\n",
    "    print(f\"Root -> {real} + i({img_part})\")\n"
   ]
  }
 ],
 "metadata": {
  "kernelspec": {
   "display_name": "Python 3",
   "language": "python",
   "name": "python3"
  },
  "language_info": {
   "codemirror_mode": {
    "name": "ipython",
    "version": 3
   },
   "file_extension": ".py",
   "mimetype": "text/x-python",
   "name": "python",
   "nbconvert_exporter": "python",
   "pygments_lexer": "ipython3",
   "version": "3.12.5"
  }
 },
 "nbformat": 4,
 "nbformat_minor": 2
}
