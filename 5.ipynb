{
 "cells": [
  {
   "cell_type": "markdown",
   "metadata": {},
   "source": [
    "**---------------------------------------------------------------------------------------------------------------------------------------\n",
    "Generate two tuples to represent two distinct points in space. (Three dimensional geometry). Determine the Euclidian distance between the two.**\n"
   ]
  },
  {
   "cell_type": "code",
   "execution_count": 3,
   "metadata": {},
   "outputs": [
    {
     "name": "stdout",
     "output_type": "stream",
     "text": [
      "2.0\n"
     ]
    }
   ],
   "source": [
    "from math import sqrt\n",
    "t1=tuple(int(x) for x in input(\"Enter first cords (x1,y1,z1)->\").split())\n",
    "t2=tuple(int(x) for x in input(\"Enter first cords (x2,y2,z2)->\").split())\n",
    "sum_of_squares=0\n",
    "for i in range(3):\n",
    "    sum_of_squares+=(t1[i]-t2[i])**2\n",
    "distance=sqrt(sum_of_squares)\n",
    "print(distance)"
   ]
  },
  {
   "cell_type": "markdown",
   "metadata": {},
   "source": [
    "**-------------------------------------------------------------------------------------------------------------------------------------\n",
    "Generate three lists using list comprehension. List of names, list of Roll nos and list of marks for Physics exam for all students of the class. Create a list of tuples using the zip function where each tuple carries individual student details. Sort the list of tuples using a sorted function by keeping Marks as the key for sorting.**"
   ]
  },
  {
   "cell_type": "code",
   "execution_count": 1,
   "metadata": {},
   "outputs": [
    {
     "name": "stdout",
     "output_type": "stream",
     "text": [
      "[('Vaibhav', 3012, 30), ('Manas', 1031, 70), ('Sutanu', 3010, 80), ('Ankur', 3005, 80)]\n"
     ]
    }
   ],
   "source": [
    "names = [x for x in input(\"Enter names of students->\").split()]\n",
    "roll_nos = [int(x) for x in input(\"Enter roll numbers of students->\").split()]\n",
    "marks =[int(x) for x in input(\"Enter marks of students->\").split()]\n",
    "l1=[tuple(x) for x in zip(names,roll_nos,marks)]\n",
    "l2=sorted(l1,key=lambda x:x[2]) #sort by marks\n",
    "print(l2)"
   ]
  },
  {
   "cell_type": "markdown",
   "metadata": {},
   "source": [
    "**---------------------------------------------------------------------------------------------------------------------------------------\n",
    "Redo sorting of l1 by marks without using zip and sorted functions**\n"
   ]
  },
  {
   "cell_type": "code",
   "execution_count": 6,
   "metadata": {},
   "outputs": [
    {
     "name": "stdout",
     "output_type": "stream",
     "text": [
      "[('Vaibhav', 65, 85), ('Ankur', 10, 90), ('Sutanu', 2, 91), ('Ashu', 45, 95)]\n"
     ]
    }
   ],
   "source": [
    "l1 = []\n",
    "for i in range(len(names)):\n",
    "    l1.append((names[i], roll_nos[i], marks[i]))\n",
    "\n",
    "for i in range(len(l1)):\n",
    "    for j in range(0, len(l1) - i - 1):\n",
    "        if l1[j][2] > l1[j + 1][2]:\n",
    "            l1[j], l1[j + 1] = l1[j + 1], l1[j]\n",
    "\n",
    "print(l1)"
   ]
  },
  {
   "cell_type": "markdown",
   "metadata": {},
   "source": [
    "**---------------------------------------------------------------------------------------------------------------------------------------\n",
    "Enter a string. Determine the count of each letter present in the string using the concept of a dictionary.**\n"
   ]
  },
  {
   "cell_type": "code",
   "execution_count": 5,
   "metadata": {},
   "outputs": [
    {
     "name": "stdout",
     "output_type": "stream",
     "text": [
      "{'c': 1, 'a': 2, 'b': 2, 'g': 1, 'e': 1}\n"
     ]
    }
   ],
   "source": [
    "str1=input(\"Enter a string : \").lower()\n",
    "mpp={}\n",
    "for ch in str1:\n",
    "    mpp.update({ch:mpp.get(ch,0)+1})\n",
    "print(mpp)\n",
    "    "
   ]
  },
  {
   "cell_type": "markdown",
   "metadata": {},
   "source": [
    "**---------------------------------------------------------------------------------------------------------------------------------------Create a dictionary containing user-inputted names and marks (in percentage) for 5 students. Write a Python program that classifies these students into three categories: \"High Performers\" (marks ≥ 85), \"Average Performers\" (60 ≤ marks < 85), and \"Low Performers\" (marks < 60). The program should print the number of students in each category along with their names. Finally, identify and display the name of the student with the highest marks.**\n"
   ]
  },
  {
   "cell_type": "code",
   "execution_count": 6,
   "metadata": {},
   "outputs": [
    {
     "name": "stdout",
     "output_type": "stream",
     "text": [
      "High Performers (2): ['Ankur', 'Ashu']\n",
      "Average Performers (2): ['Vaibhav', 'Sutanu']\n",
      "Low Performers (1): ['Abhishek']\n",
      "The student with the highest marks is Ashu with 90 marks.\n"
     ]
    }
   ],
   "source": [
    "student = {}\n",
    "for _ in range(5):\n",
    "    name = input(\"Enter student's name: \")\n",
    "    marks = int(input(f\"Enter marks for {name}: \"))\n",
    "    student[name] = marks\n",
    "\n",
    "high = {name: marks for name, marks in student.items() if marks >= 85}\n",
    "average = {name: marks for name, marks in student.items() if 60 <= marks < 85}\n",
    "low = {name: marks for name, marks in student.items() if marks < 60}\n",
    "\n",
    "print(f\"High Performers ({len(high)}): {list(high.keys())}\")\n",
    "print(f\"Average Performers ({len(average)}): {list(average.keys())}\")\n",
    "print(f\"Low Performers ({len(low)}): {list(low.keys())}\")\n",
    "\n",
    "top_student = max(student, key=student.get)\n",
    "print(f\"The student with the highest marks is {top_student} with {student[top_student]} marks.\")\n"
   ]
  },
  {
   "cell_type": "markdown",
   "metadata": {},
   "source": [
    "**---------------------------------------------------------------------------------------------------------------------------------------Create a program that manages employee salaries in a company using a dictionary. The dictionary should contain at least 5 employees, with their names as keys and their respective salaries as values [take user input data]. Implement a sorting algorithm to arrange the employees in descending order based on their salaries without using any built-in sorting functions, and display the sorted list along with their salaries and rank (highest salary first and so on)**"
   ]
  },
  {
   "cell_type": "code",
   "execution_count": 2,
   "metadata": {},
   "outputs": [
    {
     "name": "stdout",
     "output_type": "stream",
     "text": [
      "Name : Cummins   Salary : Rs. 5000\n",
      "Name : Head   Salary : Rs. 4500\n",
      "Name : Maxwell   Salary : Rs. 2500\n",
      "Name : Narine   Salary : Rs. 1100\n",
      "Name : Rashid   Salary : Rs. 890\n"
     ]
    }
   ],
   "source": [
    "employee = {} \n",
    "for _ in range(5):\n",
    "    name = input(\"Enter Employee Name: \")\n",
    "    marks = int(input(f\"Enter Salary for {name} in Rs: \"))\n",
    "    employee[name] = marks\n",
    "\n",
    "l1=[x for x in employee.keys()]\n",
    "for i in range(5):\n",
    "    for j in range(5-i-1):\n",
    "        if employee[l1[j+1]]>employee[l1[j]]:\n",
    "            l1[j],l1[j+1]=l1[j+1],l1[j]\n",
    "for i in l1:\n",
    "    print(f\"Name : {i}   Salary : Rs. {employee[i]}\")"
   ]
  }
 ],
 "metadata": {
  "kernelspec": {
   "display_name": "Python 3",
   "language": "python",
   "name": "python3"
  },
  "language_info": {
   "codemirror_mode": {
    "name": "ipython",
    "version": 3
   },
   "file_extension": ".py",
   "mimetype": "text/x-python",
   "name": "python",
   "nbconvert_exporter": "python",
   "pygments_lexer": "ipython3",
   "version": "3.12.5"
  }
 },
 "nbformat": 4,
 "nbformat_minor": 2
}
