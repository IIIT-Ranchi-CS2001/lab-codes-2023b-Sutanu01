{
 "cells": [
  {
   "cell_type": "markdown",
   "metadata": {},
   "source": [
    "**Find the sum of n terms of exponential series\n",
    "cos(x)=1-(x^2)/2! + (x^4)/4! + (x^6)/6! - ...**"
   ]
  },
  {
   "cell_type": "code",
   "execution_count": 2,
   "metadata": {},
   "outputs": [
    {
     "name": "stdout",
     "output_type": "stream",
     "text": [
      "-0.125\n"
     ]
    }
   ],
   "source": [
    "from math import factorial as fact\n",
    "n=int(input(\"Enter the value of n:\"))\n",
    "x=int(input(\"Enter the value of x:\"))\n",
    "def cos(x,y,z,sign):\n",
    "    if(z==0):\n",
    "        return 0\n",
    "    return sign*((x**y)/fact(y))+cos(x,y+2,z-1,-1*sign)\n",
    "ans=cos(x,0,n,1)\n",
    "print(ans)"
   ]
  },
  {
   "cell_type": "code",
   "execution_count": 1,
   "metadata": {},
   "outputs": [
    {
     "name": "stdout",
     "output_type": "stream",
     "text": [
      "Students participating in both events are: {'patlu'}\n",
      "Students participating in one event are: {'jerry', 'bheem', 'jon', 'ben'}\n",
      "Students absent are: {'tom'}\n"
     ]
    }
   ],
   "source": [
    "students = {\"bheem\" , \"tom\" , \"jerry\" , \"motu\" , \"patlu\" , \"ben\" , \"jon\"}\n",
    "exibition_event = {\"bheem\" , \"jon\" , \"patlu\"}\n",
    "sport_event = {\"jerry\" , \"ben\", \"patlu\"}\n",
    "present  = {\"motu\"}\n",
    "both_event = exibition_event&sport_event\n",
    "one_event = exibition_event^sport_event\n",
    "absent = students-(exibition_event|sport_event|present)\n",
    "print(\"Students participating in both events are:\",both_event)\n",
    "print(\"Students participating in one event are:\",one_event)\n",
    "print(\"Students absent are:\",absent)"
   ]
  },
  {
   "cell_type": "markdown",
   "metadata": {},
   "source": [
    "**Define a function my_zip() that can form a list of tuples by iterating the following customer details:- ‘customer Name, customer ID , shopping points’ and based on the keyword parameter ‘strct’: If strct = True, zipping shall be done only if all lists are of equal length. If strct = False, zipping can be done by taking the minimum length of the iterable.**"
   ]
  },
  {
   "cell_type": "code",
   "execution_count": 6,
   "metadata": {},
   "outputs": [
    {
     "name": "stdout",
     "output_type": "stream",
     "text": [
      "['Sutanu', 'Vaibhav', 'Ankur', 'Narayan']\n",
      "[1, 2, 3, 4]\n",
      "[25, 61, 17, 29]\n",
      "[('Sutanu', 1, 25), ('Vaibhav', 2, 61), ('Ankur', 3, 17), ('Narayan', 4, 29)]\n"
     ]
    }
   ],
   "source": [
    "customerName=list(x for x in input(\"Enter the name of the customer:\").split())\n",
    "customerID=list(int(x) for x in input(\"Enter the ID of the customer:\").split())\n",
    "shoppingPoints=list(int(x) for x in input(\"Enter the shopping points of the customer:\").split())\n",
    "strct=int(input(\"Enter strct mode -> 1 for true and 2 for false\"))\n",
    "if(strct==1):\n",
    "    strct=True\n",
    "else:\n",
    "    strct=False\n",
    "\n",
    "def my_zip(strct2=False):\n",
    "    l1=len(customerName)\n",
    "    l2=len(customerID)\n",
    "    l3=len(shoppingPoints)\n",
    "    if(strct2 and (l1!=l2 or l2!=l3 or l1!=l3)):\n",
    "        return \"Length of the iterables are not same\"\n",
    "    res=[]\n",
    "    for i in range(min(l1,l2,l3)):\n",
    "        res.append((customerName[i],customerID[i],shoppingPoints[i]))\n",
    "    return res\n",
    "\n",
    "\n",
    "print(customerName)\n",
    "print(customerID)\n",
    "print(shoppingPoints)\n",
    "\n",
    "\n",
    "if(my_zip(strct)== \"Length of the iterables are not same\"):\n",
    "    print(\"Length of the iterables are not same\")\n",
    "else:\n",
    "    print(my_zip(strct))\n",
    "        "
   ]
  },
  {
   "cell_type": "markdown",
   "metadata": {},
   "source": [
    "**Define a function my_sort() to sort the list of tuples created using my_zip function in the last question. The function must have two types of arguments- the list that carry the data, the key that determines the argument of sorting:[Usage of built-in function sorted() is a punishable offense]       Key = 0:sorting based on customer name in ascending order                                               Key = 1:sorting based on Customer ID                                                                   Key = 2:sorting based on shopping points**"
   ]
  },
  {
   "cell_type": "code",
   "execution_count": 10,
   "metadata": {},
   "outputs": [
    {
     "name": "stdout",
     "output_type": "stream",
     "text": [
      "[('Ankur', 3, 17), ('Sutanu', 1, 25), ('Narayan', 4, 29), ('Vaibhav', 2, 61)]\n"
     ]
    }
   ],
   "source": [
    "def my_sort(data,key):\n",
    "    l=len(data)\n",
    "    for i in range(l):\n",
    "        for j in range(0,l-i-1):\n",
    "            if(data[j][key]>data[j+1][key]):\n",
    "                data[j],data[j+1]=data[j+1],data[j]\n",
    "           \n",
    "listNew=my_zip(strct)     \n",
    "keyInput=int(input(\"Enter the key to sort the data:\"))\n",
    "my_sort(listNew,keyInput)\n",
    "print(listNew)"
   ]
  },
  {
   "cell_type": "markdown",
   "metadata": {},
   "source": [
    "**Write program to define a function my_max() to complete the following tasks: [Usage of built-in function max() is strictly prohibited] If a list of integers is passed as the input argument, the function shall return maximum value present in the list If a set is passed, maximum value present in the list If a tuple is passed, maximum value present in the tuple**"
   ]
  },
  {
   "cell_type": "code",
   "execution_count": 22,
   "metadata": {},
   "outputs": [
    {
     "name": "stdout",
     "output_type": "stream",
     "text": [
      "10\n",
      "19\n",
      "45\n"
     ]
    }
   ],
   "source": [
    "def my_max(data):\n",
    "    if(not(type(data)==set or type(data)==list or type(data)==tuple)):\n",
    "        raise TypeError(\"Input should be of type set or list or tuple\")\n",
    "    mxVAl=-2**30\n",
    "    for i in data:\n",
    "        if(mxVAl<i):\n",
    "            mxVAl=i\n",
    "    return mxVAl\n",
    "\n",
    "print(my_max((1,2,3,4,5,6,7,8,9,10))) #tuple\n",
    "print(my_max([10,2,15,6,7,8,19,11,4,3])) #list\n",
    "print(my_max({32,12,45,11,12})) #set\n",
    "        \n",
    "        "
   ]
  },
  {
   "cell_type": "markdown",
   "metadata": {},
   "source": [
    "**Write a python script using map, lambda and filter functions to do the following operations on a user inputted comma separated strings: E.g.: “Tom 25 Rahu22 2@$” To find all the letters given in the string and to convert them to uppercase o/p: [‘TOM’]To find all the digits present in the string and to find their squares o/p: [625]To display all the alphanumeric characters present in the string o/p: [“Tom”, ‘25’, “Rahu22”]**\n"
   ]
  },
  {
   "cell_type": "code",
   "execution_count": 46,
   "metadata": {},
   "outputs": [
    {
     "name": "stdout",
     "output_type": "stream",
     "text": [
      "['Sutanu22', '69', 'Sutanu@11']\n",
      "['SUTANU22', '69', 'SUTANU@11']\n",
      "[4761]\n",
      "['Sutanu22', '69']\n"
     ]
    }
   ],
   "source": [
    "list2=[x for x in input(\"Enter the elements of the list:\").split(',')]\n",
    "print(list2)\n",
    "l1=list(map(lambda x:x.upper(),list2))\n",
    "l2=[int(x)**2 for x in filter(lambda x:x.isdigit(),list2)]\n",
    "l3=list(filter(lambda x:x.isalnum(),list2))\n",
    "print(l1)\n",
    "print(l2)\n",
    "print(l3)"
   ]
  }
 ],
 "metadata": {
  "kernelspec": {
   "display_name": "Python 3",
   "language": "python",
   "name": "python3"
  },
  "language_info": {
   "codemirror_mode": {
    "name": "ipython",
    "version": 3
   },
   "file_extension": ".py",
   "mimetype": "text/x-python",
   "name": "python",
   "nbconvert_exporter": "python",
   "pygments_lexer": "ipython3",
   "version": "3.12.5"
  }
 },
 "nbformat": 4,
 "nbformat_minor": 2
}
