{
 "cells": [
  {
   "cell_type": "markdown",
   "metadata": {},
   "source": [
    "**Find the sum of n terms of exponential series\n",
    "cos(x)=1-(x^2)/2! + (x^4)/4! +..**"
   ]
  },
  {
   "cell_type": "code",
   "execution_count": 4,
   "metadata": {},
   "outputs": [
    {
     "name": "stdout",
     "output_type": "stream",
     "text": [
      "-0.125\n"
     ]
    }
   ],
   "source": [
    "from math import factorial as fact\n",
    "n=int(input(\"Enter the value of n:\"))\n",
    "x=int(input(\"Enter the value of x:\"))\n",
    "def cos(x,y,z,sign):\n",
    "    if(z==0):\n",
    "        return 0\n",
    "    return sign*((x**y)/fact(y))+cos(x,y+2,z-1,-1*sign)\n",
    "ans=cos(x,0,n,1)\n",
    "print(ans)"
   ]
  }
 ],
 "metadata": {
  "kernelspec": {
   "display_name": "Python 3",
   "language": "python",
   "name": "python3"
  },
  "language_info": {
   "codemirror_mode": {
    "name": "ipython",
    "version": 3
   },
   "file_extension": ".py",
   "mimetype": "text/x-python",
   "name": "python",
   "nbconvert_exporter": "python",
   "pygments_lexer": "ipython3",
   "version": "3.12.5"
  }
 },
 "nbformat": 4,
 "nbformat_minor": 2
}
